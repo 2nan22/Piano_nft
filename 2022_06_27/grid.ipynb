{
 "cells": [
  {
   "cell_type": "code",
   "execution_count": 12,
   "metadata": {},
   "outputs": [],
   "source": [
    "import pandas as pd\n",
    "from ast import literal_eval\n",
    "import numpy as np\n",
    "import matplotlib.pyplot as plt\n",
    "import os\n",
    "from tqdm import tqdm\n",
    "from PIL import Image, ImageDraw\n",
    "import cv2\n",
    "import glob\n",
    "\n",
    "csv_path = './point_csv/0623_1254_sample1_full.csv'\n",
    "\n",
    "def csv2array(csv_path):\n",
    "\n",
    "    test = pd.read_csv(csv_path)\n",
    "\n",
    "    col = test.columns.tolist()\n",
    "\n",
    "    # 문자열로 되어있는 값들을 벗겨내기\n",
    "    for c in col:\n",
    "        test[c] = test[c].apply(lambda x : literal_eval(x))\n",
    "\n",
    "    num=0\n",
    "    arr_name = []\n",
    "\n",
    "    print('----------csv to array -------------')\n",
    "    # 프레임 별 array 생성 \n",
    "    for i in tqdm(range(len(test))):\n",
    "        # 전역변수로 변수명을 'arr_ + 프레임 no' 선언 \n",
    "        globals()[f'arr_{num}'] = []\n",
    "        arr_name.append(f'arr_{num}')\n",
    "\n",
    "        for c in col:\n",
    "            if test.loc[i][c] != 0:\n",
    "                # x, y 값을 array에 담고, 리스트에 append\n",
    "                new_arr = np.array([test.loc[i][c]['x'], test.loc[i][c]['y']])\n",
    "                globals()[f'arr_{num}'].append(new_arr)\n",
    "            else:\n",
    "                new_arr = np.array([test.loc[i][c], test.loc[i][c]])\n",
    "                globals()[f'arr_{num}'].append(new_arr)\n",
    "        # 21개의 좌표가 담긴 각각의 array를 하나의 array로 => Frame 별 array 생성\n",
    "        globals()[f'arr_{num}'] = np.array(globals()[f'arr_{num}'])\n",
    "\n",
    "        num += 1\n",
    "    \n",
    "    return arr_name\n",
    "\n",
    "def hand_connection():\n",
    "\n",
    "    palm = ((0, 1), (0, 5), (9, 13), (13, 17), (5, 9), (0, 17))\n",
    "\n",
    "    thumb = ((1, 2), (2, 3), (3, 4))\n",
    "\n",
    "    index = ((5, 6), (6, 7), (7, 8))\n",
    "\n",
    "    middle = ((9, 10), (10, 11), (11, 12))\n",
    "\n",
    "    ring = ((13, 14), (14, 15), (15, 16))\n",
    "\n",
    "    pinky = ((17, 18), (18, 19), (19, 20))\n",
    "\n",
    "    hand_list = [palm, thumb, index, middle, ring, pinky]\n",
    "    \n",
    "    return hand_list\n",
    "\n",
    "def array2img():\n",
    "\n",
    "    arr_name = csv2array(csv_path)\n",
    "\n",
    "    draw_path = './pillow_img/'\n",
    "\n",
    "    if os.path.exists(draw_path):\n",
    "        for file in os.scandir(draw_path):\n",
    "            os.remove(file.path)\n",
    "    else:\n",
    "        os.mkdir(draw_path)\n",
    "\n",
    "    height = 1000\n",
    "    width = 1000\n",
    "\n",
    "    num = 0\n",
    "    # 손꾸락 색깔 (살색)\n",
    "    rgb = (232, 196, 126)\n",
    "    # RGB 초기값\n",
    "    color = 255\n",
    "\n",
    "    mode = 0\n",
    "\n",
    "    print('----------array to image-------------')\n",
    "\n",
    "    for i in tqdm(range(int(len(arr_name) / 2))):\n",
    "\n",
    "        image = Image.new(mode='RGB', size=(height, width), color=(255, 255, 255))\n",
    "\n",
    "        draw = ImageDraw.Draw(image, 'RGB')\n",
    "\n",
    "        a = 10\n",
    "            \n",
    "        while a != 2000:\n",
    "            x = a - 10\n",
    "            y = 0\n",
    "            for _ in range(a):\n",
    "                draw.rectangle([(x, y), (x+10, y+10)], fill=(color, 255, 255), width=0)\n",
    "                x -= 10\n",
    "                y += 10\n",
    "            a += 10\n",
    "\n",
    "            # RGB 값 끝에 다다를 때 mode 변환\n",
    "            if color == 150 :\n",
    "                mode = 1\n",
    "            elif color == 255:\n",
    "                mode = 0\n",
    "\n",
    "            # mode 별로 RGB 값을 + 할지 - 할지 고려\n",
    "            if mode == 0:\n",
    "                color -= 1\n",
    "            elif mode == 1:\n",
    "                color += 1\n",
    "        \n",
    "            \n",
    "        # 좌표 값 그리기\n",
    "        for idx in range(42):\n",
    "\n",
    "            p = np.trunc(np.multiply(eval(arr_name[i])[idx], np.array([1000, 1000])))\n",
    "                \n",
    "            x,y = p\n",
    "            x1 = x - (x % 10)\n",
    "            x2 = x1 + 10\n",
    "\n",
    "            y1 = y - (y % 10)\n",
    "            y2 = y1 + 10\n",
    "\n",
    "            draw.rectangle([(x1, y1), (x2, y2)], fill=rgb)\n",
    "        \n",
    "        num += 1\n",
    "\n",
    "\n",
    "        plt.figure(figsize=(20,10))\n",
    "        plt.axis('off')\n",
    "        plt.imshow(image)\n",
    "        plt.savefig(draw_path + 'test_'+ str(num) +'.png')\n",
    "        plt.close()\n",
    "        \n",
    "        del draw\n",
    "\n",
    "\n",
    "def img2avi():\n",
    "\n",
    "    array2img()\n",
    "    mp4_name = input('저장할 파일명을 적어주세요')\n",
    "    img_array = []\n",
    "\n",
    "    print('------ image to avi file ... ----------')\n",
    "    for filename in tqdm(glob.glob(os.getcwd() + '/pillow_img/*.png')):\n",
    "        img = cv2.imread(filename)\n",
    "        height, width, layers = img.shape\n",
    "        size = (width, height)\n",
    "        img_array.append(img)\n",
    "\n",
    "    out = cv2.VideoWriter(mp4_name + '.avi', cv2.VideoWriter_fourcc(*'DIVX'), 30, size)\n",
    "\n",
    "    for i in tqdm(img_array):\n",
    "        out.write(i)\n",
    "    out.release()"
   ]
  },
  {
   "cell_type": "code",
   "execution_count": 13,
   "metadata": {},
   "outputs": [
    {
     "name": "stdout",
     "output_type": "stream",
     "text": [
      "----------csv to array -------------\n"
     ]
    },
    {
     "name": "stderr",
     "output_type": "stream",
     "text": [
      "100%|██████████| 3813/3813 [00:21<00:00, 180.69it/s]\n"
     ]
    },
    {
     "name": "stdout",
     "output_type": "stream",
     "text": [
      "----------array to image-------------\n"
     ]
    },
    {
     "name": "stderr",
     "output_type": "stream",
     "text": [
      " 63%|██████▎   | 1197/1906 [07:09<04:14,  2.79it/s]"
     ]
    }
   ],
   "source": [
    "img2avi()"
   ]
  },
  {
   "cell_type": "code",
   "execution_count": 217,
   "metadata": {},
   "outputs": [
    {
     "data": {
      "image/png": "[encoded data removed]",
      "text/plain": [
       "<Figure size 432x288 with 1 Axes>"
      ]
     },
     "metadata": {
      "needs_background": "light"
     },
     "output_type": "display_data"
    }
   ],
   "source": [
    "import librosa\n",
    "import librosa.display\n",
    "import matplotlib.pyplot as plt         # 그래프를 출력하기 위한 모듈\n",
    "\n",
    "audio = 'sample.wav'\n",
    "y, sr = librosa.load(audio)             # 소리 파일 불러오기\n",
    "\n",
    "librosa.display.waveshow(y, sr=sr)      # 소리 데이터를 그래프로 표현하기\n",
    "plt.title('Waveshow')                   # 그래프 제목 설정하기   \n",
    "plt.show()"
   ]
  },
  {
   "cell_type": "code",
   "execution_count": 212,
   "metadata": {},
   "outputs": [
    {
     "name": "stdout",
     "output_type": "stream",
     "text": [
      "MoviePy - Writing audio in sample.wav\n"
     ]
    },
    {
     "name": "stderr",
     "output_type": "stream",
     "text": [
      "                                                                      "
     ]
    },
    {
     "name": "stdout",
     "output_type": "stream",
     "text": [
      "MoviePy - Done.\n"
     ]
    },
    {
     "name": "stderr",
     "output_type": "stream",
     "text": [
      "\r"
     ]
    }
   ],
   "source": [
    "# 모듈 로딩 후 오디오 추출\n",
    "import moviepy.editor as mp\n",
    "\n",
    "clip = mp.VideoFileClip(\"sample1.mp4\")\n",
    "clip.audio.write_audiofile(\"sample.wav\")"
   ]
  },
  {
   "cell_type": "code",
   "execution_count": null,
   "metadata": {},
   "outputs": [],
   "source": []
  }
 ],
 "metadata": {
  "kernelspec": {
   "display_name": "Python 3.9.7 ('base')",
   "language": "python",
   "name": "python3"
  },
  "language_info": {
   "codemirror_mode": {
    "name": "ipython",
    "version": 3
   },
   "file_extension": ".py",
   "mimetype": "text/x-python",
   "name": "python",
   "nbconvert_exporter": "python",
   "pygments_lexer": "ipython3",
   "version": "3.9.7"
  },
  "orig_nbformat": 4,
  "vscode": {
   "interpreter": {
    "hash": "ad2bdc8ecc057115af97d19610ffacc2b4e99fae6737bb82f5d7fb13d2f2c186"
   }
  }
 },
 "nbformat": 4,
 "nbformat_minor": 2
}
